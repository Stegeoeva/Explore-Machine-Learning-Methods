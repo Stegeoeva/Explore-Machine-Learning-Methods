{
 "cells": [
  {
   "cell_type": "code",
   "execution_count": 94,
   "metadata": {},
   "outputs": [],
   "source": [
    "#Loading necessary libraries\n",
    "\n",
    "from mpl_toolkits.mplot3d import Axes3D\n",
    "import matplotlib.pyplot as plt\n",
    "from matplotlib import cm\n",
    "from matplotlib.ticker import LinearLocator, FormatStrFormatter\n",
    "from random import random, seed\n",
    "import os\n",
    "import csv\n",
    "import re\n",
    "import numpy as np\n",
    "import pandas as pd\n",
    "from IPython.display import display\n",
    "import sklearn.linear_model as skl\n",
    "from sklearn.model_selection import train_test_split\n",
    "from sklearn.metrics import mean_squared_error, mean_squared_log_error, mean_absolute_error\n",
    "from sklearn.linear_model import LinearRegression\n",
    "from pylab import plt, mpl\n",
    "from sklearn.preprocessing import PolynomialFeatures\n",
    "from sklearn.preprocessing import MinMaxScaler, StandardScaler, Normalizer, PowerTransformer, QuantileTransformer\n",
    "from sklearn.linear_model import LinearRegression, Ridge, Lasso\n",
    "from sklearn import linear_model\n",
    "from sklearn.utils import resample\n",
    "import seaborn as sns\n",
    "from sklearn.model_selection import KFold\n",
    "from sklearn.model_selection import cross_val_score\n",
    "from sklearn.model_selection import ShuffleSplit\n",
    "from numpy import mean\n",
    "from numpy import std\n",
    "from numpy import absolute\n",
    "from numpy import arange\n",
    "from sklearn.linear_model import RidgeCV, LassoCV "
   ]
  },
  {
   "cell_type": "code",
   "execution_count": 95,
   "metadata": {},
   "outputs": [],
   "source": [
    "def display_scores(scores):\n",
    "    print(\"Scores:\", -scores)\n",
    "    print(\"Mean:\", -scores.mean())\n",
    "    print(\"Standard deviation:\", scores.std())"
   ]
  },
  {
   "cell_type": "code",
   "execution_count": 96,
   "metadata": {},
   "outputs": [],
   "source": [
    "def display_scores1(scores):\n",
    "    print(\"Scores_MAE:\", -scores)\n",
    "    print(\"Mean_MAE:\", -scores.mean())\n",
    "    print(\"Standard deviation_MAE:\", scores.std())"
   ]
  },
  {
   "cell_type": "code",
   "execution_count": 97,
   "metadata": {},
   "outputs": [],
   "source": [
    "# Κατασκευή Συνάρτησης υπολογισμού του μέσου απόλυτου ποσοστιαίου σφάλματος\n",
    "def mape(actual, pred): \n",
    "    actual, pred = np.array(actual), np.array(pred)\n",
    "    return np.mean(np.abs((actual - pred) / actual)) * 100"
   ]
  },
  {
   "cell_type": "code",
   "execution_count": 98,
   "metadata": {},
   "outputs": [],
   "source": [
    "data=pd.read_excel(open('Concrete_Data.xls', 'rb') ) #Eισαγωγή των δεδομένων του προβλήματος"
   ]
  },
  {
   "cell_type": "code",
   "execution_count": 99,
   "metadata": {},
   "outputs": [
    {
     "data": {
      "text/html": [
       "<div>\n",
       "<style scoped>\n",
       "    .dataframe tbody tr th:only-of-type {\n",
       "        vertical-align: middle;\n",
       "    }\n",
       "\n",
       "    .dataframe tbody tr th {\n",
       "        vertical-align: top;\n",
       "    }\n",
       "\n",
       "    .dataframe thead th {\n",
       "        text-align: right;\n",
       "    }\n",
       "</style>\n",
       "<table border=\"1\" class=\"dataframe\">\n",
       "  <thead>\n",
       "    <tr style=\"text-align: right;\">\n",
       "      <th></th>\n",
       "      <th>Cement (component 1)(kg in a m^3 mixture)</th>\n",
       "      <th>Blast Furnace Slag (component 2)(kg in a m^3 mixture)</th>\n",
       "      <th>Fly Ash (component 3)(kg in a m^3 mixture)</th>\n",
       "      <th>Water  (component 4)(kg in a m^3 mixture)</th>\n",
       "      <th>Superplasticizer (component 5)(kg in a m^3 mixture)</th>\n",
       "      <th>Coarse Aggregate  (component 6)(kg in a m^3 mixture)</th>\n",
       "      <th>Fine Aggregate (component 7)(kg in a m^3 mixture)</th>\n",
       "      <th>Age (day)</th>\n",
       "      <th>Concrete compressive strength(MPa, megapascals)</th>\n",
       "    </tr>\n",
       "  </thead>\n",
       "  <tbody>\n",
       "    <tr>\n",
       "      <th>0</th>\n",
       "      <td>540.0</td>\n",
       "      <td>0.0</td>\n",
       "      <td>0.0</td>\n",
       "      <td>162.0</td>\n",
       "      <td>2.5</td>\n",
       "      <td>1040.0</td>\n",
       "      <td>676.0</td>\n",
       "      <td>28</td>\n",
       "      <td>79.986111</td>\n",
       "    </tr>\n",
       "    <tr>\n",
       "      <th>1</th>\n",
       "      <td>540.0</td>\n",
       "      <td>0.0</td>\n",
       "      <td>0.0</td>\n",
       "      <td>162.0</td>\n",
       "      <td>2.5</td>\n",
       "      <td>1055.0</td>\n",
       "      <td>676.0</td>\n",
       "      <td>28</td>\n",
       "      <td>61.887366</td>\n",
       "    </tr>\n",
       "    <tr>\n",
       "      <th>2</th>\n",
       "      <td>332.5</td>\n",
       "      <td>142.5</td>\n",
       "      <td>0.0</td>\n",
       "      <td>228.0</td>\n",
       "      <td>0.0</td>\n",
       "      <td>932.0</td>\n",
       "      <td>594.0</td>\n",
       "      <td>270</td>\n",
       "      <td>40.269535</td>\n",
       "    </tr>\n",
       "    <tr>\n",
       "      <th>3</th>\n",
       "      <td>332.5</td>\n",
       "      <td>142.5</td>\n",
       "      <td>0.0</td>\n",
       "      <td>228.0</td>\n",
       "      <td>0.0</td>\n",
       "      <td>932.0</td>\n",
       "      <td>594.0</td>\n",
       "      <td>365</td>\n",
       "      <td>41.052780</td>\n",
       "    </tr>\n",
       "    <tr>\n",
       "      <th>4</th>\n",
       "      <td>198.6</td>\n",
       "      <td>132.4</td>\n",
       "      <td>0.0</td>\n",
       "      <td>192.0</td>\n",
       "      <td>0.0</td>\n",
       "      <td>978.4</td>\n",
       "      <td>825.5</td>\n",
       "      <td>360</td>\n",
       "      <td>44.296075</td>\n",
       "    </tr>\n",
       "  </tbody>\n",
       "</table>\n",
       "</div>"
      ],
      "text/plain": [
       "   Cement (component 1)(kg in a m^3 mixture)  \\\n",
       "0                                      540.0   \n",
       "1                                      540.0   \n",
       "2                                      332.5   \n",
       "3                                      332.5   \n",
       "4                                      198.6   \n",
       "\n",
       "   Blast Furnace Slag (component 2)(kg in a m^3 mixture)  \\\n",
       "0                                                0.0       \n",
       "1                                                0.0       \n",
       "2                                              142.5       \n",
       "3                                              142.5       \n",
       "4                                              132.4       \n",
       "\n",
       "   Fly Ash (component 3)(kg in a m^3 mixture)  \\\n",
       "0                                         0.0   \n",
       "1                                         0.0   \n",
       "2                                         0.0   \n",
       "3                                         0.0   \n",
       "4                                         0.0   \n",
       "\n",
       "   Water  (component 4)(kg in a m^3 mixture)  \\\n",
       "0                                      162.0   \n",
       "1                                      162.0   \n",
       "2                                      228.0   \n",
       "3                                      228.0   \n",
       "4                                      192.0   \n",
       "\n",
       "   Superplasticizer (component 5)(kg in a m^3 mixture)  \\\n",
       "0                                                2.5     \n",
       "1                                                2.5     \n",
       "2                                                0.0     \n",
       "3                                                0.0     \n",
       "4                                                0.0     \n",
       "\n",
       "   Coarse Aggregate  (component 6)(kg in a m^3 mixture)  \\\n",
       "0                                             1040.0      \n",
       "1                                             1055.0      \n",
       "2                                              932.0      \n",
       "3                                              932.0      \n",
       "4                                              978.4      \n",
       "\n",
       "   Fine Aggregate (component 7)(kg in a m^3 mixture)  Age (day)  \\\n",
       "0                                              676.0         28   \n",
       "1                                              676.0         28   \n",
       "2                                              594.0        270   \n",
       "3                                              594.0        365   \n",
       "4                                              825.5        360   \n",
       "\n",
       "   Concrete compressive strength(MPa, megapascals)   \n",
       "0                                         79.986111  \n",
       "1                                         61.887366  \n",
       "2                                         40.269535  \n",
       "3                                         41.052780  \n",
       "4                                         44.296075  "
      ]
     },
     "execution_count": 99,
     "metadata": {},
     "output_type": "execute_result"
    }
   ],
   "source": [
    "data.head()"
   ]
  },
  {
   "cell_type": "code",
   "execution_count": 100,
   "metadata": {},
   "outputs": [
    {
     "name": "stdout",
     "output_type": "stream",
     "text": [
      "<class 'pandas.core.frame.DataFrame'>\n",
      "RangeIndex: 1030 entries, 0 to 1029\n",
      "Data columns (total 9 columns):\n",
      " #   Column                                                 Non-Null Count  Dtype  \n",
      "---  ------                                                 --------------  -----  \n",
      " 0   Cement (component 1)(kg in a m^3 mixture)              1030 non-null   float64\n",
      " 1   Blast Furnace Slag (component 2)(kg in a m^3 mixture)  1030 non-null   float64\n",
      " 2   Fly Ash (component 3)(kg in a m^3 mixture)             1030 non-null   float64\n",
      " 3   Water  (component 4)(kg in a m^3 mixture)              1030 non-null   float64\n",
      " 4   Superplasticizer (component 5)(kg in a m^3 mixture)    1030 non-null   float64\n",
      " 5   Coarse Aggregate  (component 6)(kg in a m^3 mixture)   1030 non-null   float64\n",
      " 6   Fine Aggregate (component 7)(kg in a m^3 mixture)      1030 non-null   float64\n",
      " 7   Age (day)                                              1030 non-null   int64  \n",
      " 8   Concrete compressive strength(MPa, megapascals)        1030 non-null   float64\n",
      "dtypes: float64(8), int64(1)\n",
      "memory usage: 72.5 KB\n"
     ]
    }
   ],
   "source": [
    "data.info()"
   ]
  },
  {
   "cell_type": "code",
   "execution_count": 101,
   "metadata": {},
   "outputs": [],
   "source": [
    "Data = np.array(data) #Μετατροπή του αρχείου σε μορφή πίνακα"
   ]
  },
  {
   "cell_type": "code",
   "execution_count": 102,
   "metadata": {},
   "outputs": [
    {
     "data": {
      "text/html": [
       "<div>\n",
       "<style scoped>\n",
       "    .dataframe tbody tr th:only-of-type {\n",
       "        vertical-align: middle;\n",
       "    }\n",
       "\n",
       "    .dataframe tbody tr th {\n",
       "        vertical-align: top;\n",
       "    }\n",
       "\n",
       "    .dataframe thead th {\n",
       "        text-align: right;\n",
       "    }\n",
       "</style>\n",
       "<table border=\"1\" class=\"dataframe\">\n",
       "  <thead>\n",
       "    <tr style=\"text-align: right;\">\n",
       "      <th></th>\n",
       "      <th>count</th>\n",
       "      <th>mean</th>\n",
       "      <th>std</th>\n",
       "      <th>min</th>\n",
       "      <th>25%</th>\n",
       "      <th>50%</th>\n",
       "      <th>75%</th>\n",
       "      <th>max</th>\n",
       "    </tr>\n",
       "  </thead>\n",
       "  <tbody>\n",
       "    <tr>\n",
       "      <th>Cement (component 1)(kg in a m^3 mixture)</th>\n",
       "      <td>1030.0</td>\n",
       "      <td>281.165631</td>\n",
       "      <td>104.507142</td>\n",
       "      <td>102.000000</td>\n",
       "      <td>192.375000</td>\n",
       "      <td>272.900000</td>\n",
       "      <td>350.000000</td>\n",
       "      <td>540.000000</td>\n",
       "    </tr>\n",
       "    <tr>\n",
       "      <th>Blast Furnace Slag (component 2)(kg in a m^3 mixture)</th>\n",
       "      <td>1030.0</td>\n",
       "      <td>73.895485</td>\n",
       "      <td>86.279104</td>\n",
       "      <td>0.000000</td>\n",
       "      <td>0.000000</td>\n",
       "      <td>22.000000</td>\n",
       "      <td>142.950000</td>\n",
       "      <td>359.400000</td>\n",
       "    </tr>\n",
       "    <tr>\n",
       "      <th>Fly Ash (component 3)(kg in a m^3 mixture)</th>\n",
       "      <td>1030.0</td>\n",
       "      <td>54.187136</td>\n",
       "      <td>63.996469</td>\n",
       "      <td>0.000000</td>\n",
       "      <td>0.000000</td>\n",
       "      <td>0.000000</td>\n",
       "      <td>118.270000</td>\n",
       "      <td>200.100000</td>\n",
       "    </tr>\n",
       "    <tr>\n",
       "      <th>Water  (component 4)(kg in a m^3 mixture)</th>\n",
       "      <td>1030.0</td>\n",
       "      <td>181.566359</td>\n",
       "      <td>21.355567</td>\n",
       "      <td>121.750000</td>\n",
       "      <td>164.900000</td>\n",
       "      <td>185.000000</td>\n",
       "      <td>192.000000</td>\n",
       "      <td>247.000000</td>\n",
       "    </tr>\n",
       "    <tr>\n",
       "      <th>Superplasticizer (component 5)(kg in a m^3 mixture)</th>\n",
       "      <td>1030.0</td>\n",
       "      <td>6.203112</td>\n",
       "      <td>5.973492</td>\n",
       "      <td>0.000000</td>\n",
       "      <td>0.000000</td>\n",
       "      <td>6.350000</td>\n",
       "      <td>10.160000</td>\n",
       "      <td>32.200000</td>\n",
       "    </tr>\n",
       "    <tr>\n",
       "      <th>Coarse Aggregate  (component 6)(kg in a m^3 mixture)</th>\n",
       "      <td>1030.0</td>\n",
       "      <td>972.918592</td>\n",
       "      <td>77.753818</td>\n",
       "      <td>801.000000</td>\n",
       "      <td>932.000000</td>\n",
       "      <td>968.000000</td>\n",
       "      <td>1029.400000</td>\n",
       "      <td>1145.000000</td>\n",
       "    </tr>\n",
       "    <tr>\n",
       "      <th>Fine Aggregate (component 7)(kg in a m^3 mixture)</th>\n",
       "      <td>1030.0</td>\n",
       "      <td>773.578883</td>\n",
       "      <td>80.175427</td>\n",
       "      <td>594.000000</td>\n",
       "      <td>730.950000</td>\n",
       "      <td>779.510000</td>\n",
       "      <td>824.000000</td>\n",
       "      <td>992.600000</td>\n",
       "    </tr>\n",
       "    <tr>\n",
       "      <th>Age (day)</th>\n",
       "      <td>1030.0</td>\n",
       "      <td>45.662136</td>\n",
       "      <td>63.169912</td>\n",
       "      <td>1.000000</td>\n",
       "      <td>7.000000</td>\n",
       "      <td>28.000000</td>\n",
       "      <td>56.000000</td>\n",
       "      <td>365.000000</td>\n",
       "    </tr>\n",
       "    <tr>\n",
       "      <th>Concrete compressive strength(MPa, megapascals)</th>\n",
       "      <td>1030.0</td>\n",
       "      <td>35.817836</td>\n",
       "      <td>16.705679</td>\n",
       "      <td>2.331808</td>\n",
       "      <td>23.707115</td>\n",
       "      <td>34.442774</td>\n",
       "      <td>46.136287</td>\n",
       "      <td>82.599225</td>\n",
       "    </tr>\n",
       "  </tbody>\n",
       "</table>\n",
       "</div>"
      ],
      "text/plain": [
       "                                                     count        mean  \\\n",
       "Cement (component 1)(kg in a m^3 mixture)           1030.0  281.165631   \n",
       "Blast Furnace Slag (component 2)(kg in a m^3 mi...  1030.0   73.895485   \n",
       "Fly Ash (component 3)(kg in a m^3 mixture)          1030.0   54.187136   \n",
       "Water  (component 4)(kg in a m^3 mixture)           1030.0  181.566359   \n",
       "Superplasticizer (component 5)(kg in a m^3 mixt...  1030.0    6.203112   \n",
       "Coarse Aggregate  (component 6)(kg in a m^3 mix...  1030.0  972.918592   \n",
       "Fine Aggregate (component 7)(kg in a m^3 mixture)   1030.0  773.578883   \n",
       "Age (day)                                           1030.0   45.662136   \n",
       "Concrete compressive strength(MPa, megapascals)     1030.0   35.817836   \n",
       "\n",
       "                                                           std         min  \\\n",
       "Cement (component 1)(kg in a m^3 mixture)           104.507142  102.000000   \n",
       "Blast Furnace Slag (component 2)(kg in a m^3 mi...   86.279104    0.000000   \n",
       "Fly Ash (component 3)(kg in a m^3 mixture)           63.996469    0.000000   \n",
       "Water  (component 4)(kg in a m^3 mixture)            21.355567  121.750000   \n",
       "Superplasticizer (component 5)(kg in a m^3 mixt...    5.973492    0.000000   \n",
       "Coarse Aggregate  (component 6)(kg in a m^3 mix...   77.753818  801.000000   \n",
       "Fine Aggregate (component 7)(kg in a m^3 mixture)    80.175427  594.000000   \n",
       "Age (day)                                            63.169912    1.000000   \n",
       "Concrete compressive strength(MPa, megapascals)      16.705679    2.331808   \n",
       "\n",
       "                                                           25%         50%  \\\n",
       "Cement (component 1)(kg in a m^3 mixture)           192.375000  272.900000   \n",
       "Blast Furnace Slag (component 2)(kg in a m^3 mi...    0.000000   22.000000   \n",
       "Fly Ash (component 3)(kg in a m^3 mixture)            0.000000    0.000000   \n",
       "Water  (component 4)(kg in a m^3 mixture)           164.900000  185.000000   \n",
       "Superplasticizer (component 5)(kg in a m^3 mixt...    0.000000    6.350000   \n",
       "Coarse Aggregate  (component 6)(kg in a m^3 mix...  932.000000  968.000000   \n",
       "Fine Aggregate (component 7)(kg in a m^3 mixture)   730.950000  779.510000   \n",
       "Age (day)                                             7.000000   28.000000   \n",
       "Concrete compressive strength(MPa, megapascals)      23.707115   34.442774   \n",
       "\n",
       "                                                            75%          max  \n",
       "Cement (component 1)(kg in a m^3 mixture)            350.000000   540.000000  \n",
       "Blast Furnace Slag (component 2)(kg in a m^3 mi...   142.950000   359.400000  \n",
       "Fly Ash (component 3)(kg in a m^3 mixture)           118.270000   200.100000  \n",
       "Water  (component 4)(kg in a m^3 mixture)            192.000000   247.000000  \n",
       "Superplasticizer (component 5)(kg in a m^3 mixt...    10.160000    32.200000  \n",
       "Coarse Aggregate  (component 6)(kg in a m^3 mix...  1029.400000  1145.000000  \n",
       "Fine Aggregate (component 7)(kg in a m^3 mixture)    824.000000   992.600000  \n",
       "Age (day)                                             56.000000   365.000000  \n",
       "Concrete compressive strength(MPa, megapascals)       46.136287    82.599225  "
      ]
     },
     "execution_count": 102,
     "metadata": {},
     "output_type": "execute_result"
    }
   ],
   "source": [
    "data.describe().T"
   ]
  },
  {
   "cell_type": "code",
   "execution_count": 103,
   "metadata": {},
   "outputs": [
    {
     "data": {
      "text/plain": [
       "(1030, 9)"
      ]
     },
     "execution_count": 103,
     "metadata": {},
     "output_type": "execute_result"
    }
   ],
   "source": [
    "Data.shape"
   ]
  },
  {
   "cell_type": "code",
   "execution_count": 104,
   "metadata": {},
   "outputs": [],
   "source": [
    "X, y = Data[:, :-1], Data[:, -1]  # Διαχωρισμός των δεδομένων σε πίνακα σχεδιασμού και διάνυσμα στόχο"
   ]
  },
  {
   "cell_type": "code",
   "execution_count": 105,
   "metadata": {},
   "outputs": [],
   "source": [
    "# Διαχωρισμός των δεδομένων σε train και test set\n",
    "X_train= X[0:721]\n",
    "y_train=y[0:721]\n",
    "X_test= X[721:1030]\n",
    "y_test=y[721:1030]"
   ]
  },
  {
   "cell_type": "code",
   "execution_count": 106,
   "metadata": {},
   "outputs": [
    {
     "data": {
      "text/plain": [
       "array([[310. ],\n",
       "       [  0. ],\n",
       "       [  0. ],\n",
       "       ...,\n",
       "       [864.5],\n",
       "       [761.5],\n",
       "       [ 28. ]])"
      ]
     },
     "execution_count": 106,
     "metadata": {},
     "output_type": "execute_result"
    }
   ],
   "source": [
    "y_train.reshape(1,-1)\n",
    "y_test.reshape(1,-1)\n",
    "X_train.reshape(-1,1)\n",
    "X_test.reshape(-1,1)"
   ]
  },
  {
   "cell_type": "code",
   "execution_count": 107,
   "metadata": {},
   "outputs": [
    {
     "name": "stdout",
     "output_type": "stream",
     "text": [
      "Αποτελέσματα της μεθόδου (OLS) σε μη κλιμακοποιημένα δεδομένα\n",
      "-------------------------------------------------------\n",
      "Mean squared error of OLS on train data: 124.2541\n",
      "Mean absolute error of OLS train data: 8.9899\n",
      "Mean absolute percentage error of OLS on train data: 33.3565\n",
      "\n",
      "Mean squared error of OLS on testing data: 73.2000\n",
      "Mean absolute error of OLS on testing data: 6.6089\n",
      "Mean percentage absolute error of OLS on testing data: 25.9313\n"
     ]
    }
   ],
   "source": [
    "# Αξιολόγηση της επίδοσης της μεθόδου (OLS) σε μη κλιμακοποιημένα σύνολα εκπαίδευσης και αξιολόγησης\n",
    "#Εκπαίδευση του μοντέλου\n",
    "clf = skl.LinearRegression().fit(X_train, y_train)\n",
    "ytilde_test = clf.predict(X_test)\n",
    "ytilde_train = clf.predict(X_train)\n",
    "\n",
    "#Αποτελέσματα στο σύνολο εκπαίδευσης (train set)\n",
    "mse_train_split_noScale = mean_squared_error(y_train, ytilde_train)\n",
    "mae_train_split_noScale = mean_absolute_error(y_train, ytilde_train)\n",
    "mape_train_split_noScale = mape(y_train, ytilde_train)\n",
    "\n",
    "#Αποτελέσματα στο σύνολο δοκιμής (test set)\n",
    "mse_test_split_noScale = mean_squared_error(y_test, ytilde_test)\n",
    "mae_test_split_noScale= mean_absolute_error(y_test, ytilde_test)\n",
    "mape_test_split_noScale = mape(y_test, ytilde_test)\n",
    "print(\"Αποτελέσματα της μεθόδου (OLS) σε μη κλιμακοποιημένα δεδομένα\")\n",
    "print(\"-------------------------------------------------------\")\n",
    "# The mean squared error                               \n",
    "print(\"Mean squared error of OLS on train data: %.4f\" % mse_train_split_noScale )\n",
    "# MAE                                 \n",
    "print('Mean absolute error of OLS train data: %.4f' % mae_train_split_noScale  )\n",
    "# MAPE                                                          \n",
    "print('Mean absolute percentage error of OLS on train data: %.4f' % mape_train_split_noScale )\n",
    "\n",
    "# The mean squared error                               \n",
    "print(\"\\nMean squared error of OLS on testing data: %.4f\" % mse_test_split_noScale)\n",
    "# MAE  \n",
    "print('Mean absolute error of OLS on testing data: %.4f' % mae_test_split_noScale)\n",
    "# MAPE                                                           \n",
    "print(\"Mean percentage absolute error of OLS on testing data: %.4f\" % mape_test_split_noScale )\n"
   ]
  },
  {
   "cell_type": "code",
   "execution_count": 108,
   "metadata": {},
   "outputs": [],
   "source": [
    "# Κλιμακοποίηση των δεδομένων\n",
    "scaler = MinMaxScaler()\n",
    "scaler.fit(X_train) \n",
    "scaler.fit(X_test) \n",
    "X_train_scaled = scaler.fit_transform(X_train)\n",
    "X_test_scaled = scaler.fit_transform(X_test)"
   ]
  },
  {
   "cell_type": "code",
   "execution_count": 109,
   "metadata": {},
   "outputs": [
    {
     "name": "stdout",
     "output_type": "stream",
     "text": [
      "Αποτελέσματα της μεθόδου (OLS) σε κλιμακοποιημένα δεδομένα\n",
      "-------------------------------\n",
      "\n",
      "Mean squared error of OLS on training data: 124.2541\n",
      "Mean absolute error of OLS on training data: 8.9899\n",
      "MAPE of OLS on training data: 33.3565\n",
      "\n",
      "Mean squared error of OLS on test data: 76.7813\n",
      "Mean absolute error of OLS on test data: 7.0366\n",
      "MAPE of OLS test data: 29.3867\n"
     ]
    }
   ],
   "source": [
    "# Αξιολόγηση της επίδοσης της μεθόδου (OLS) σε κλιμακοποιημένα σύνολα εκπαίδευσης και αξιολόγησης\n",
    "# Εκπαίδευση του μοντέλου\n",
    "clf = skl.LinearRegression().fit(X_train_scaled, y_train)\n",
    "y_pred_test_scaled = clf.predict(X_test_scaled)\n",
    "y_pred_train_scaled = clf.predict(X_train_scaled)\n",
    "\n",
    "\n",
    "#Αποτελέσματα στο σύνολο εκπαίδευσης (train set)\n",
    "mse_train_split_scaled = mean_squared_error(y_train, y_pred_train_scaled) \n",
    "mae_train_split_scaled = mean_absolute_error(y_train, y_pred_train_scaled)     \n",
    "mape_train_split_scaled= mape (y_train, y_pred_train_scaled)\n",
    "      \n",
    "#Αποτελέσματα στο σύνολο δοκιμής (test set)     \n",
    "mse_test_split_scaled = mean_squared_error(y_test, y_pred_test_scaled)\n",
    "mae_test_split_scaled = mean_squared_error(y_test, y_pred_test_scaled)\n",
    "mape_test_split_scaled= mape (y_test, y_pred_test_scaled)\n",
    "print(\"Αποτελέσματα της μεθόδου (OLS) σε κλιμακοποιημένα δεδομένα\")\n",
    "print(\"-------------------------------\")\n",
    "# The mean squared error                            \n",
    "print(\"\\nMean squared error of OLS on training data: %.4f\" % mse_train_split_scaled)                              \n",
    "# Mean absolute error                                                           \n",
    "print('Mean absolute error of OLS on training data: %.4f' % mean_absolute_error(y_train, y_pred_train_scaled))\n",
    "\n",
    "print('MAPE of OLS on training data: %.4f' % mape_train_split_scaled)\n",
    "      \n",
    "# The mean squared error                               \n",
    "print(\"\\nMean squared error of OLS on test data: %.4f\" % mse_test_split_scaled)\n",
    "\n",
    "# Mean absolute error                                                           \n",
    "print('Mean absolute error of OLS on test data: %.4f' % mean_absolute_error(y_test, y_pred_test_scaled))\n",
    "      \n",
    "# Mean absolute percentage error                                \n",
    "print('MAPE of OLS test data: %.4f' % mape_test_split_scaled)"
   ]
  },
  {
   "cell_type": "code",
   "execution_count": 110,
   "metadata": {},
   "outputs": [],
   "source": [
    "# Αξιολόγηση της μεθόδου Ridge\n",
    "n_alphas = 200\n",
    "alphas = np.logspace(6, -4, n_alphas)\n",
    "MAE=[]\n",
    "MSE = []\n",
    "MAPE=[]\n",
    "for a in alphas:\n",
    "    ridge = linear_model.Ridge(alpha=a, fit_intercept=True)\n",
    "    clf = ridge.fit(X_train_scaled, y_train)\n",
    "    y_pred_test_scaled = clf.predict(X_test_scaled)\n",
    "    y_pred_train_scaled = clf.predict(X_train_scaled)\n",
    "    mse_train_split_scaled = mean_squared_error(y_train, y_pred_train_scaled)\n",
    "    mse_test_split_scaled = mean_squared_error(y_test, y_pred_test_scaled)\n",
    "    MSE.append(mse_train_split_scaled)\n",
    "    mae_test_split_scaled = mean_absolute_error(y_test, y_pred_test_scaled)\n",
    "    mae_train_split_scaled = mean_absolute_error(y_train, y_pred_train_scaled)\n",
    "    MAE.append(mae_train_split_scaled)\n",
    "    mape_test_split_scaled=mape(y_test, y_pred_test_scaled)\n",
    "    mape_train_split_scaled= mape (y_train, y_pred_train_scaled)\n",
    "    MAPE.append(mape_train_split_scaled)"
   ]
  },
  {
   "cell_type": "code",
   "execution_count": 111,
   "metadata": {},
   "outputs": [
    {
     "data": {
      "image/png": "[encoded data removed]",
      "text/plain": [
       "<Figure size 720x360 with 1 Axes>"
      ]
     },
     "metadata": {
      "needs_background": "light"
     },
     "output_type": "display_data"
    }
   ],
   "source": [
    "fig1 = plt.figure(figsize=(10,5))\n",
    "axes = plt.gca()\n",
    "axes.tick_params(axis = 'both', which = 'major', labelsize = 20)\n",
    "axes.tick_params(axis = 'both', which = 'minor', labelsize = 20)\n",
    "plt.plot(np.log10(alphas), MSE,  label = 'MSE')\n",
    "plt.plot(np.log10(alphas), MAE,  label = 'MAE')\n",
    "plt.plot(np.log10(alphas), MAPE,  label = 'MAPE')\n",
    "plt.xlabel('log$_{10}$a',size=20)\n",
    "plt.ylabel('Test Error',size=20)\n",
    "plt.title('Error (with Ridge Regression) vs alpha', fontsize = 12)\n",
    "plt.xticks(size = 20)\n",
    "plt.yticks(size = 20)\n",
    "plt.legend()\n",
    "plt.show()"
   ]
  },
  {
   "cell_type": "code",
   "execution_count": 112,
   "metadata": {},
   "outputs": [],
   "source": [
    "# Αξιολόγηση της μεθόδου LASSO\n",
    "n_alphas = 200\n",
    "alphas = np.logspace(6, -4, n_alphas)\n",
    "\n",
    "MAE=[]\n",
    "MSE = []\n",
    "MAPE=[]\n",
    "for a in alphas:\n",
    "    lasso = linear_model.Lasso(alpha=a, fit_intercept=True)\n",
    "    clf = lasso.fit(X_train_scaled, y_train)\n",
    "    y_pred_test_scaled = clf.predict(X_test_scaled)\n",
    "    y_pred_train_scaled = clf.predict(X_train_scaled)\n",
    "    mse_train_split_scaled = mean_squared_error(y_train, y_pred_train_scaled)\n",
    "    mse_test_split_scaled = mean_squared_error(y_test, y_pred_test_scaled)\n",
    "    MSE.append(mse_train_split_scaled)\n",
    "    mae_test_split_scaled = mean_absolute_error(y_test, y_pred_test_scaled)\n",
    "    mae_train_split_scaled = mean_absolute_error(y_train, y_pred_train_scaled)\n",
    "    MAE.append(mae_train_split_scaled)\n",
    "    mape_test_split_scaled=mape(y_test, y_pred_test_scaled)\n",
    "    mape_train_split_scaled= mape (y_train, y_pred_train_scaled)\n",
    "    MAPE.append(mape_train_split_scaled)\n"
   ]
  },
  {
   "cell_type": "code",
   "execution_count": 113,
   "metadata": {},
   "outputs": [
    {
     "data": {
      "image/png": "[encoded data removed]",
      "text/plain": [
       "<Figure size 720x360 with 1 Axes>"
      ]
     },
     "metadata": {
      "needs_background": "light"
     },
     "output_type": "display_data"
    }
   ],
   "source": [
    "fig2 = plt.figure(figsize=(10,5))\n",
    "axes = plt.gca()\n",
    "axes.tick_params(axis = 'both', which = 'major', labelsize = 20)\n",
    "axes.tick_params(axis = 'both', which = 'minor', labelsize = 20)\n",
    "plt.plot(np.log10(alphas), MSE,  label = 'MSE')\n",
    "plt.plot(np.log10(alphas), MAE,  label = 'MAE')\n",
    "plt.plot(np.log10(alphas), MAPE,  label = 'MAPE')\n",
    "plt.xlabel('log$_{10}$a',size=20)\n",
    "plt.ylabel('Test Error',size=20)\n",
    "plt.title('Error (with Lasso Regression) vs alpha', fontsize = 12)\n",
    "plt.xticks(size = 20)\n",
    "plt.yticks(size = 20)\n",
    "plt.legend()\n",
    "plt.show()"
   ]
  },
  {
   "cell_type": "code",
   "execution_count": 114,
   "metadata": {},
   "outputs": [],
   "source": [
    "# Τυχαία ανακατανομή των δεδομένων και κλιμακοποίηση\n",
    "np.random.shuffle(Data)\n",
    "X, y = Data[:, :-1], Data[:, -1]\n",
    "X_train, X_test, y_train, y_test = train_test_split(X,y,test_size=0.3)\n",
    "scaler = MinMaxScaler()\n",
    "scaler.fit(X_train) \n",
    "scaler.fit(X_test) \n",
    "X_train_scaled = scaler.fit_transform(X_train)\n",
    "X_test_scaled = scaler.fit_transform(X_test)\n"
   ]
  },
  {
   "cell_type": "code",
   "execution_count": 115,
   "metadata": {},
   "outputs": [],
   "source": [
    "# Μέθοδοι γραμμικ΄ης παλινδρόμησης που θα χρησιμοποιήσουμε\n",
    "regr = linear_model.LinearRegression()#.fit(X_train_scaled, y_train)\n",
    "lasso = linear_model.Lasso(alpha=0.01)#,# fit_intercept=True)#.fit(X_train_scaled, y_train)\n",
    "ridge= linear_model.Ridge(alpha=0.01)#, #fit_intercept=True)#.fit(X_train_scaled, y_train)"
   ]
  },
  {
   "cell_type": "markdown",
   "metadata": {},
   "source": [
    "# Cross Validation"
   ]
  },
  {
   "cell_type": "code",
   "execution_count": 116,
   "metadata": {},
   "outputs": [
    {
     "name": "stdout",
     "output_type": "stream",
     "text": [
      "Linear regression\n",
      "Scores: [10.46994104 10.53707407 10.88499136 10.59793245  9.93715496 11.3206612\n",
      "  9.90678506 10.45087265 10.32407516 10.51640883]\n",
      "Mean: 10.494589678434561\n",
      "Standard deviation: 0.39186860423637754\n",
      "\n"
     ]
    }
   ],
   "source": [
    "# H μέση τιμή και η τυπική απόκλιση του MSE στο OLS\n",
    "shuffle = ShuffleSplit(n_splits = 10, test_size=0.3)\n",
    "\n",
    "lin_scores = cross_val_score(regr, X_train_scaled, y_train, scoring =\"neg_mean_squared_error\",cv=shuffle)\n",
    "lin_scores = np.sqrt(-lin_scores)\n",
    "print(\"Linear regression\")\n",
    "display_scores(-lin_scores)\n",
    "print(\"\")"
   ]
  },
  {
   "cell_type": "code",
   "execution_count": 117,
   "metadata": {},
   "outputs": [
    {
     "name": "stdout",
     "output_type": "stream",
     "text": [
      "Linear regression\n",
      "Scores: [2.87160738 2.98812434 2.88672633 2.8541445  2.90001257 2.87403811\n",
      " 2.92921095 3.00603404 2.88064146 2.89705771]\n",
      "Mean: 2.908759738370762\n",
      "Standard deviation: 0.048205346042975515\n",
      "\n"
     ]
    }
   ],
   "source": [
    "# H μέση τιμή και η τυπική απόκλιση του MAE στο OLS\n",
    "shuffle = ShuffleSplit(n_splits = 10, test_size=0.3)\n",
    "\n",
    "lin_scores = cross_val_score(regr, X_train_scaled, y_train, scoring =\"neg_mean_absolute_error\",cv=shuffle)\n",
    "lin_scores = np.sqrt(-lin_scores)\n",
    "print(\"Linear regression\")\n",
    "display_scores(-lin_scores)\n",
    "print(\"\")"
   ]
  },
  {
   "cell_type": "code",
   "execution_count": 118,
   "metadata": {},
   "outputs": [
    {
     "name": "stdout",
     "output_type": "stream",
     "text": [
      "Linear regression\n",
      "Scores: [11.28091374 10.80904386 10.85251449 10.75812351 10.0988176  10.64506424\n",
      " 10.99100357 10.49193045 10.57904459 10.69816693]\n",
      "Mean: 10.720462298298735\n",
      "Standard deviation: 0.29645422897814977\n",
      "\n"
     ]
    }
   ],
   "source": [
    "#H μέση τιμή και η τυπική απόκλιση του MSE στο Ridge\n",
    "shuffle = ShuffleSplit(n_splits = 10, test_size=0.3)\n",
    "\n",
    "lin_scores = cross_val_score(ridge, X_train_scaled, y_train, scoring =\"neg_mean_squared_error\",cv=shuffle)\n",
    "lin_scores = np.sqrt(-lin_scores)\n",
    "print(\"Linear regression\")\n",
    "display_scores(-lin_scores)\n",
    "print(\"\")"
   ]
  },
  {
   "cell_type": "code",
   "execution_count": 119,
   "metadata": {},
   "outputs": [
    {
     "name": "stdout",
     "output_type": "stream",
     "text": [
      "Linear regression\n",
      "Scores: [2.82938275 2.96515655 2.96582839 2.82893141 2.92644692 2.93201442\n",
      " 2.89427555 2.80291109 2.96178147 2.89573834]\n",
      "Mean: 2.9002466887373646\n",
      "Standard deviation: 0.05799498611150056\n",
      "\n"
     ]
    }
   ],
   "source": [
    "#H μέση τιμή και η τυπική απόκλιση του MAE στο Ridge\n",
    "shuffle = ShuffleSplit(n_splits = 10, test_size=0.3)\n",
    "\n",
    "lin_scores = cross_val_score(ridge, X_train_scaled, y_train, scoring =\"neg_mean_absolute_error\",cv=shuffle)\n",
    "lin_scores = np.sqrt(-lin_scores)\n",
    "print(\"Linear regression\")\n",
    "display_scores(-lin_scores)\n",
    "print(\"\")"
   ]
  },
  {
   "cell_type": "code",
   "execution_count": 120,
   "metadata": {},
   "outputs": [
    {
     "name": "stdout",
     "output_type": "stream",
     "text": [
      "Linear regression\n",
      "Scores: [10.44167332 10.43160635 10.50520307 10.67040907 10.33158037 10.84732013\n",
      " 10.48441804 10.17158796 10.56051745  9.96556867]\n",
      "Mean: 10.44098844434222\n",
      "Standard deviation: 0.23424245998564597\n",
      "\n"
     ]
    }
   ],
   "source": [
    "#H μέση τιμή και η τυπική απόκλιση του MSE στο LASSO\n",
    "shuffle = ShuffleSplit(n_splits = 10, test_size=0.3)\n",
    "\n",
    "lin_scores = cross_val_score(lasso, X_train_scaled, y_train, scoring =\"neg_mean_squared_error\",cv=shuffle)\n",
    "lin_scores = np.sqrt(-lin_scores)\n",
    "print(\"Linear regression\")\n",
    "display_scores(-lin_scores)\n",
    "print(\"\")"
   ]
  },
  {
   "cell_type": "code",
   "execution_count": 121,
   "metadata": {},
   "outputs": [
    {
     "name": "stdout",
     "output_type": "stream",
     "text": [
      "Linear regression\n",
      "Scores: [2.90177084 2.82941856 2.94406988 2.838688   2.93355799 2.88974854\n",
      " 2.91476667 2.85227194 2.93480254 2.91778813]\n",
      "Mean: 2.8956883079155085\n",
      "Standard deviation: 0.03969278681225797\n",
      "\n"
     ]
    }
   ],
   "source": [
    "#H μέση τιμή και η τυπική απόκλιση του MAE στο LASSO\n",
    "shuffle = ShuffleSplit(n_splits = 10, test_size=0.3)\n",
    "\n",
    "lin_scores = cross_val_score(lasso, X_train_scaled, y_train, scoring =\"neg_mean_absolute_error\",cv=shuffle)\n",
    "lin_scores = np.sqrt(-lin_scores)\n",
    "print(\"Linear regression\")\n",
    "display_scores(-lin_scores)\n",
    "print(\"\")"
   ]
  },
  {
   "cell_type": "code",
   "execution_count": 122,
   "metadata": {},
   "outputs": [],
   "source": [
    "# Διαχωρισμός των δεδομένων σε train και test set\n",
    "X_train= X[0:721]\n",
    "y_train=y[0:721]\n",
    "X_test= X[721:1030]\n",
    "y_test=y[721:1030]"
   ]
  },
  {
   "cell_type": "code",
   "execution_count": 123,
   "metadata": {},
   "outputs": [],
   "source": [
    "np.random.shuffle(Data)\n",
    "X, y = Data[:, :-1], Data[:, -1]\n",
    "X_train, X_test, y_train, y_test = train_test_split(X,y,test_size=0.3)\n",
    "scaler = MinMaxScaler()\n",
    "scaler.fit(X_train) \n",
    "scaler.fit(X_test) \n",
    "X_train_scaled = scaler.transform(X_train)\n",
    "X_test_scaled = scaler.transform(X_test)\n"
   ]
  },
  {
   "cell_type": "code",
   "execution_count": 124,
   "metadata": {},
   "outputs": [],
   "source": [
    "# Ορισμός πολυωνυμικής Συνάρτησης \n",
    "def test_poly_regression(X_train,y_train,X_test,y_test,n,model):\n",
    "\n",
    "    X_train_new = X_train.copy()\n",
    "    X_test_new =X_test.copy() \n",
    "    y_train_new = y_train.copy()\n",
    "    y_test_new= y_test.copy()\n",
    "    #Κατασκευή των πολυωνυμικών όρων για δωσμένο n\n",
    "    for p in range(2, n+1):\n",
    "        X_p = X_train**p\n",
    "        X_train_new = np.hstack((X_train_new, X_p))\n",
    "        Xt_p = X_test**p\n",
    "        X_test_new = np.hstack((X_test_new, Xt_p))\n",
    "        y_p = y_train**p\n",
    "        y_train_new = np.hstack((y_train_new, y_p))\n",
    "        yt_p = y_test**p\n",
    "        y_test_new = np.hstack((y_test_new, yt_p))\n",
    "    #Κλιμακοποίηση του τελικού συνόλου    \n",
    "    scaler = MinMaxScaler()\n",
    "    scaler.fit(X_train_new)\n",
    "    scaler.fit(X_test_new)\n",
    "    X_train_scaled = scaler.fit_transform(X_train_new)\n",
    "    X_test_scaled = scaler.fit_transform(X_test_new)\n",
    "    #Εκπαίδευση του μοντέλου επί του τελικού συνόλου\n",
    "    clf1 = model.fit(X_train_scaled, y_train)\n",
    "    # Προβλέψεις\n",
    "    y_pred_test_scaled = clf1.predict(X_test_scaled)\n",
    "    y_pred_train_scaled = clf1.predict(X_train_scaled)\n",
    "    #Αποτελέσματα στο σύνολο αξιολόγησης\n",
    "    mse_test = mean_squared_error(y_test, y_pred_test_scaled)\n",
    "    mae_test = mean_absolute_error(y_test, y_pred_test_scaled)\n",
    "    mape_test=mape(y_test, y_pred_test_scaled)\n",
    "    #Αποτελέσμα στο σύνολο εκπαίδευσης\n",
    "    mse_train = mean_squared_error (y_train, y_pred_train_scaled)\n",
    "    mae_train = mean_absolute_error (y_train, y_pred_train_scaled)\n",
    "    mape_train = mape (y_train, y_pred_train_scaled)\n",
    "    \n",
    "    # Τα σφάλματα που επιστρέφει η συνάρτηση\n",
    "    return mse_test,mae_test,mape_test, mse_train,mae_train,mape_train"
   ]
  },
  {
   "cell_type": "code",
   "execution_count": 125,
   "metadata": {},
   "outputs": [],
   "source": [
    "#Υπολογισμός των σφαλμάτων με την μέθοδο OLS για διάφορους βαθμούς του πολυωνύμου\n",
    "MSE_test=[]\n",
    "MAE_test=[]\n",
    "MAPE_test=[]\n",
    "MSE_train=[]\n",
    "MAE_train=[]\n",
    "MAPE_train=[]\n",
    "nes=[1,2,3,4,5,6,7]\n",
    "model1=regr\n",
    "for n in nes :\n",
    "    \n",
    "    scaler = MinMaxScaler()\n",
    "    scaler.fit(X_train) \n",
    "    scaler.fit(X_test) \n",
    "    X_train_scaled = scaler.fit_transform(X_train)\n",
    "    X_test_scaled = scaler.fit_transform(X_test)\n",
    "    \n",
    "    MSE_test.append(test_poly_regression(X_train,y_train,X_test,y_test,n,model1)[0])\n",
    "    MAE_test.append(test_poly_regression(X_train,y_train,X_test,y_test,n,model1)[1])\n",
    "    MAPE_test.append(test_poly_regression(X_train_scaled,y_train,X_test_scaled,y_test,n,model1)[2])\n",
    "    \n",
    "    MSE_train.append(test_poly_regression(X_train,y_train,X_test,y_test,n,model1)[3])\n",
    "    MAE_train.append(test_poly_regression(X_train,y_train,X_test,y_test,n,model1)[4])\n",
    "    MAPE_train.append(test_poly_regression(X_train,y_train,X_test,y_test,n,model1)[5])\n"
   ]
  },
  {
   "cell_type": "code",
   "execution_count": 126,
   "metadata": {},
   "outputs": [
    {
     "data": {
      "image/png": "[encoded data removed]",
      "text/plain": [
       "<Figure size 720x360 with 1 Axes>"
      ]
     },
     "metadata": {
      "needs_background": "light"
     },
     "output_type": "display_data"
    },
    {
     "data": {
      "image/png": "[encoded data removed]",
      "text/plain": [
       "<Figure size 720x360 with 1 Axes>"
      ]
     },
     "metadata": {
      "needs_background": "light"
     },
     "output_type": "display_data"
    }
   ],
   "source": [
    "fig3 = plt.figure(figsize=(10,5))\n",
    "axes = plt.gca()\n",
    "axes.tick_params(axis = 'both', which = 'major', labelsize = 20)\n",
    "axes.tick_params(axis = 'both', which = 'minor', labelsize = 20)\n",
    "plt.plot(nes, MSE_test,  label = 'MSE_test')\n",
    "plt.plot(nes, MSE_train,  label = 'MSE_train')\n",
    "plt.plot(nes, MAE_test,  label = 'MAE(test)')\n",
    "plt.plot(nes, MAPE_test,  label = 'MAPE(test)')\n",
    "plt.plot(nes, MAE_train,  label = 'MAE_train')\n",
    "plt.plot(nes, MAPE_train,  label = 'MAPE_train')\n",
    "plt.xlabel('n',size=10)\n",
    "plt.ylabel('Test Errors',size=10)\n",
    "plt.title('Errors (with OLS Regression) vs n', fontsize = 12)\n",
    "plt.xticks(size = 10)\n",
    "plt.yticks(size = 10)\n",
    "plt.legend()\n",
    "plt.show()\n",
    "\n",
    "fig4 = plt.figure(figsize=(10,5))\n",
    "axes = plt.gca()\n",
    "axes.tick_params(axis = 'both', which = 'major', labelsize = 20)\n",
    "axes.tick_params(axis = 'both', which = 'minor', labelsize = 20)\n",
    "plt.plot(nes, MSE_train,  label = 'MSE')\n",
    "plt.plot(nes, MAE_train,  label = 'MAE')\n",
    "plt.plot(nes, MAPE_train,  label = 'MAPE')\n",
    "plt.xlabel('n',size=20)\n",
    "plt.ylabel('Train Error',size=20)\n",
    "plt.title('Train Error (with OLS Regression) vs n', fontsize = 12)\n",
    "plt.xticks(size = 20)\n",
    "plt.yticks(size = 20)\n",
    "plt.legend()\n",
    "plt.show()"
   ]
  },
  {
   "cell_type": "code",
   "execution_count": 127,
   "metadata": {},
   "outputs": [],
   "source": [
    "np.random.shuffle(Data)\n",
    "X, y = Data[:, :-1], Data[:, -1]\n",
    "X_train, X_test, y_train, y_test = train_test_split(X,y,test_size=0.3)\n",
    "scaler = MinMaxScaler()\n",
    "scaler.fit(X_train) \n",
    "scaler.fit(X_test) \n",
    "X_train_scaled = scaler.fit_transform(X_train)\n",
    "X_test_scaled = scaler.fit_transform(X_test)"
   ]
  },
  {
   "cell_type": "code",
   "execution_count": 128,
   "metadata": {},
   "outputs": [],
   "source": [
    "#Υπολογισμός των σφαλμάτων με την μέθοδο Ridge για διάφορους βαθμούς του πολυωνύμου\n",
    "MSE_test=[]\n",
    "MAE_test=[]\n",
    "MAPE_test=[]\n",
    "MSE_train=[]\n",
    "MAE_train=[]\n",
    "MAPE_train=[]\n",
    "nes=[1,2,3,4,5,6,7,8,9,10]\n",
    "model1=ridge\n",
    "for n in nes :\n",
    "    \n",
    "    scaler = MinMaxScaler()\n",
    "    scaler.fit(X_train) \n",
    "    scaler.fit(X_test) \n",
    "    X_train_scaled = scaler.fit_transform(X_train)\n",
    "    X_test_scaled = scaler.fit_transform(X_test)\n",
    "    \n",
    "    MSE_test.append(test_poly_regression(X_train_scaled,y_train,X_test_scaled,y_test,n,model1)[0])\n",
    "    MAE_test.append(test_poly_regression(X_train_scaled,y_train,X_test_scaled,y_test,n,model1)[1])\n",
    "    MAPE_test.append(test_poly_regression(X_train_scaled,y_train,X_test_scaled,y_test,n,model1)[2])\n",
    "    \n",
    "    MSE_train.append(test_poly_regression(X_train_scaled,y_train,X_test_scaled,y_test,n,model1)[3])\n",
    "    MAE_train.append(test_poly_regression(X_train_scaled,y_train,X_test_scaled,y_test,n,model1)[4])\n",
    "    MAPE_train.append(test_poly_regression(X_train_scaled,y_train,X_test_scaled,y_test,n,model1)[5])\n",
    "    "
   ]
  },
  {
   "cell_type": "code",
   "execution_count": 129,
   "metadata": {},
   "outputs": [
    {
     "data": {
      "image/png": "[encoded data removed]",
      "text/plain": [
       "<Figure size 720x360 with 1 Axes>"
      ]
     },
     "metadata": {
      "needs_background": "light"
     },
     "output_type": "display_data"
    },
    {
     "data": {
      "image/png": "[encoded data removed]",
      "text/plain": [
       "<Figure size 720x360 with 1 Axes>"
      ]
     },
     "metadata": {
      "needs_background": "light"
     },
     "output_type": "display_data"
    }
   ],
   "source": [
    "fig5 = plt.figure(figsize=(10,5))\n",
    "axes = plt.gca()\n",
    "axes.tick_params(axis = 'both', which = 'major', labelsize = 20)\n",
    "axes.tick_params(axis = 'both', which = 'minor', labelsize = 20)\n",
    "plt.plot(nes, MSE_test,  label = 'MSE(test)')\n",
    "plt.plot(nes, MAE_test,  label = 'MAE(test)')\n",
    "plt.plot(nes, MAPE_test,  label = 'MAPE(test)')\n",
    "plt.plot(nes, MSE_train,  label = 'MSE(train)')\n",
    "plt.plot(nes, MAE_train,  label = 'MAE(train)')\n",
    "plt.plot(nes, MAPE_train,  label = 'MAPE(train)')\n",
    "\n",
    "plt.xlabel('n',size=20)\n",
    "plt.ylabel('Errors',size=20)\n",
    "plt.title('Errors (with ridge Regression) vs n', fontsize = 12)\n",
    "plt.xticks(size = 20)\n",
    "plt.yticks(size = 20)\n",
    "plt.legend()\n",
    "plt.show()\n",
    "\n",
    "fig6 = plt.figure(figsize=(10,5))\n",
    "axes = plt.gca()\n",
    "axes.tick_params(axis = 'both', which = 'major', labelsize = 20)\n",
    "axes.tick_params(axis = 'both', which = 'minor', labelsize = 20)\n",
    "plt.plot(nes, MSE_train,  label = 'MSE(train)')\n",
    "plt.plot(nes, MAE_train,  label = 'MAE(train)')\n",
    "plt.plot(nes, MAPE_train,  label = 'MAPE(train)')\n",
    "plt.xlabel('n',size=20)\n",
    "plt.ylabel('Train Errors',size=20)\n",
    "plt.title('Errors (with ridge Regression) vs n', fontsize = 12)\n",
    "plt.xticks(size = 20)\n",
    "plt.yticks(size = 20)\n",
    "plt.legend()\n",
    "plt.show()"
   ]
  },
  {
   "cell_type": "code",
   "execution_count": 130,
   "metadata": {},
   "outputs": [],
   "source": [
    "np.random.shuffle(Data)\n",
    "X, y = Data[:, :-1], Data[:, -1]\n",
    "X_train, X_test, y_train, y_test = train_test_split(X,y,test_size=0.3)\n",
    "scaler = MinMaxScaler()\n",
    "scaler.fit(X_train) \n",
    "scaler.fit(X_test) \n",
    "X_train_scaled = scaler.fit_transform(X_train)\n",
    "X_test_scaled = scaler.fit_transform(X_test)\n"
   ]
  },
  {
   "cell_type": "code",
   "execution_count": 131,
   "metadata": {},
   "outputs": [
    {
     "name": "stderr",
     "output_type": "stream",
     "text": [
      "C:\\Users\\admin\\anaconda3\\lib\\site-packages\\sklearn\\linear_model\\_coordinate_descent.py:529: ConvergenceWarning: Objective did not converge. You might want to increase the number of iterations. Duality gap: 60.61547560890176, tolerance: 19.89620742036104\n",
      "  model = cd_fast.enet_coordinate_descent(\n",
      "C:\\Users\\admin\\anaconda3\\lib\\site-packages\\sklearn\\linear_model\\_coordinate_descent.py:529: ConvergenceWarning: Objective did not converge. You might want to increase the number of iterations. Duality gap: 60.61547560890176, tolerance: 19.89620742036104\n",
      "  model = cd_fast.enet_coordinate_descent(\n",
      "C:\\Users\\admin\\anaconda3\\lib\\site-packages\\sklearn\\linear_model\\_coordinate_descent.py:529: ConvergenceWarning: Objective did not converge. You might want to increase the number of iterations. Duality gap: 55.041566906329535, tolerance: 19.89620742036104\n",
      "  model = cd_fast.enet_coordinate_descent(\n",
      "C:\\Users\\admin\\anaconda3\\lib\\site-packages\\sklearn\\linear_model\\_coordinate_descent.py:529: ConvergenceWarning: Objective did not converge. You might want to increase the number of iterations. Duality gap: 60.61547560890176, tolerance: 19.89620742036104\n",
      "  model = cd_fast.enet_coordinate_descent(\n",
      "C:\\Users\\admin\\anaconda3\\lib\\site-packages\\sklearn\\linear_model\\_coordinate_descent.py:529: ConvergenceWarning: Objective did not converge. You might want to increase the number of iterations. Duality gap: 60.61547560890176, tolerance: 19.89620742036104\n",
      "  model = cd_fast.enet_coordinate_descent(\n",
      "C:\\Users\\admin\\anaconda3\\lib\\site-packages\\sklearn\\linear_model\\_coordinate_descent.py:529: ConvergenceWarning: Objective did not converge. You might want to increase the number of iterations. Duality gap: 60.61547560890176, tolerance: 19.89620742036104\n",
      "  model = cd_fast.enet_coordinate_descent(\n",
      "C:\\Users\\admin\\anaconda3\\lib\\site-packages\\sklearn\\linear_model\\_coordinate_descent.py:529: ConvergenceWarning: Objective did not converge. You might want to increase the number of iterations. Duality gap: 88.08942006244615, tolerance: 19.89620742036104\n",
      "  model = cd_fast.enet_coordinate_descent(\n",
      "C:\\Users\\admin\\anaconda3\\lib\\site-packages\\sklearn\\linear_model\\_coordinate_descent.py:529: ConvergenceWarning: Objective did not converge. You might want to increase the number of iterations. Duality gap: 88.08942006244615, tolerance: 19.89620742036104\n",
      "  model = cd_fast.enet_coordinate_descent(\n",
      "C:\\Users\\admin\\anaconda3\\lib\\site-packages\\sklearn\\linear_model\\_coordinate_descent.py:529: ConvergenceWarning: Objective did not converge. You might want to increase the number of iterations. Duality gap: 58.10900997754652, tolerance: 19.89620742036104\n",
      "  model = cd_fast.enet_coordinate_descent(\n",
      "C:\\Users\\admin\\anaconda3\\lib\\site-packages\\sklearn\\linear_model\\_coordinate_descent.py:529: ConvergenceWarning: Objective did not converge. You might want to increase the number of iterations. Duality gap: 88.08942006244615, tolerance: 19.89620742036104\n",
      "  model = cd_fast.enet_coordinate_descent(\n",
      "C:\\Users\\admin\\anaconda3\\lib\\site-packages\\sklearn\\linear_model\\_coordinate_descent.py:529: ConvergenceWarning: Objective did not converge. You might want to increase the number of iterations. Duality gap: 88.08942006244615, tolerance: 19.89620742036104\n",
      "  model = cd_fast.enet_coordinate_descent(\n",
      "C:\\Users\\admin\\anaconda3\\lib\\site-packages\\sklearn\\linear_model\\_coordinate_descent.py:529: ConvergenceWarning: Objective did not converge. You might want to increase the number of iterations. Duality gap: 88.08942006244615, tolerance: 19.89620742036104\n",
      "  model = cd_fast.enet_coordinate_descent(\n",
      "C:\\Users\\admin\\anaconda3\\lib\\site-packages\\sklearn\\linear_model\\_coordinate_descent.py:529: ConvergenceWarning: Objective did not converge. You might want to increase the number of iterations. Duality gap: 86.87258371116332, tolerance: 19.89620742036104\n",
      "  model = cd_fast.enet_coordinate_descent(\n",
      "C:\\Users\\admin\\anaconda3\\lib\\site-packages\\sklearn\\linear_model\\_coordinate_descent.py:529: ConvergenceWarning: Objective did not converge. You might want to increase the number of iterations. Duality gap: 86.87258371116332, tolerance: 19.89620742036104\n",
      "  model = cd_fast.enet_coordinate_descent(\n",
      "C:\\Users\\admin\\anaconda3\\lib\\site-packages\\sklearn\\linear_model\\_coordinate_descent.py:529: ConvergenceWarning: Objective did not converge. You might want to increase the number of iterations. Duality gap: 55.239901728142286, tolerance: 19.89620742036104\n",
      "  model = cd_fast.enet_coordinate_descent(\n",
      "C:\\Users\\admin\\anaconda3\\lib\\site-packages\\sklearn\\linear_model\\_coordinate_descent.py:529: ConvergenceWarning: Objective did not converge. You might want to increase the number of iterations. Duality gap: 86.87258371116332, tolerance: 19.89620742036104\n",
      "  model = cd_fast.enet_coordinate_descent(\n",
      "C:\\Users\\admin\\anaconda3\\lib\\site-packages\\sklearn\\linear_model\\_coordinate_descent.py:529: ConvergenceWarning: Objective did not converge. You might want to increase the number of iterations. Duality gap: 86.87258371116332, tolerance: 19.89620742036104\n",
      "  model = cd_fast.enet_coordinate_descent(\n",
      "C:\\Users\\admin\\anaconda3\\lib\\site-packages\\sklearn\\linear_model\\_coordinate_descent.py:529: ConvergenceWarning: Objective did not converge. You might want to increase the number of iterations. Duality gap: 86.87258371116332, tolerance: 19.89620742036104\n",
      "  model = cd_fast.enet_coordinate_descent(\n",
      "C:\\Users\\admin\\anaconda3\\lib\\site-packages\\sklearn\\linear_model\\_coordinate_descent.py:529: ConvergenceWarning: Objective did not converge. You might want to increase the number of iterations. Duality gap: 91.61055593767378, tolerance: 19.89620742036104\n",
      "  model = cd_fast.enet_coordinate_descent(\n",
      "C:\\Users\\admin\\anaconda3\\lib\\site-packages\\sklearn\\linear_model\\_coordinate_descent.py:529: ConvergenceWarning: Objective did not converge. You might want to increase the number of iterations. Duality gap: 91.61055593767378, tolerance: 19.89620742036104\n",
      "  model = cd_fast.enet_coordinate_descent(\n",
      "C:\\Users\\admin\\anaconda3\\lib\\site-packages\\sklearn\\linear_model\\_coordinate_descent.py:529: ConvergenceWarning: Objective did not converge. You might want to increase the number of iterations. Duality gap: 59.390190184130915, tolerance: 19.89620742036104\n",
      "  model = cd_fast.enet_coordinate_descent(\n",
      "C:\\Users\\admin\\anaconda3\\lib\\site-packages\\sklearn\\linear_model\\_coordinate_descent.py:529: ConvergenceWarning: Objective did not converge. You might want to increase the number of iterations. Duality gap: 91.61055593767378, tolerance: 19.89620742036104\n",
      "  model = cd_fast.enet_coordinate_descent(\n",
      "C:\\Users\\admin\\anaconda3\\lib\\site-packages\\sklearn\\linear_model\\_coordinate_descent.py:529: ConvergenceWarning: Objective did not converge. You might want to increase the number of iterations. Duality gap: 91.61055593767378, tolerance: 19.89620742036104\n",
      "  model = cd_fast.enet_coordinate_descent(\n",
      "C:\\Users\\admin\\anaconda3\\lib\\site-packages\\sklearn\\linear_model\\_coordinate_descent.py:529: ConvergenceWarning: Objective did not converge. You might want to increase the number of iterations. Duality gap: 91.61055593767378, tolerance: 19.89620742036104\n",
      "  model = cd_fast.enet_coordinate_descent(\n",
      "C:\\Users\\admin\\anaconda3\\lib\\site-packages\\sklearn\\linear_model\\_coordinate_descent.py:529: ConvergenceWarning: Objective did not converge. You might want to increase the number of iterations. Duality gap: 97.1371047125358, tolerance: 19.89620742036104\n",
      "  model = cd_fast.enet_coordinate_descent(\n",
      "C:\\Users\\admin\\anaconda3\\lib\\site-packages\\sklearn\\linear_model\\_coordinate_descent.py:529: ConvergenceWarning: Objective did not converge. You might want to increase the number of iterations. Duality gap: 97.1371047125358, tolerance: 19.89620742036104\n",
      "  model = cd_fast.enet_coordinate_descent(\n",
      "C:\\Users\\admin\\anaconda3\\lib\\site-packages\\sklearn\\linear_model\\_coordinate_descent.py:529: ConvergenceWarning: Objective did not converge. You might want to increase the number of iterations. Duality gap: 60.99772993382794, tolerance: 19.89620742036104\n",
      "  model = cd_fast.enet_coordinate_descent(\n",
      "C:\\Users\\admin\\anaconda3\\lib\\site-packages\\sklearn\\linear_model\\_coordinate_descent.py:529: ConvergenceWarning: Objective did not converge. You might want to increase the number of iterations. Duality gap: 97.1371047125358, tolerance: 19.89620742036104\n",
      "  model = cd_fast.enet_coordinate_descent(\n",
      "C:\\Users\\admin\\anaconda3\\lib\\site-packages\\sklearn\\linear_model\\_coordinate_descent.py:529: ConvergenceWarning: Objective did not converge. You might want to increase the number of iterations. Duality gap: 97.1371047125358, tolerance: 19.89620742036104\n",
      "  model = cd_fast.enet_coordinate_descent(\n",
      "C:\\Users\\admin\\anaconda3\\lib\\site-packages\\sklearn\\linear_model\\_coordinate_descent.py:529: ConvergenceWarning: Objective did not converge. You might want to increase the number of iterations. Duality gap: 97.1371047125358, tolerance: 19.89620742036104\n",
      "  model = cd_fast.enet_coordinate_descent(\n"
     ]
    },
    {
     "name": "stderr",
     "output_type": "stream",
     "text": [
      "C:\\Users\\admin\\anaconda3\\lib\\site-packages\\sklearn\\linear_model\\_coordinate_descent.py:529: ConvergenceWarning: Objective did not converge. You might want to increase the number of iterations. Duality gap: 105.28517877420381, tolerance: 19.89620742036104\n",
      "  model = cd_fast.enet_coordinate_descent(\n",
      "C:\\Users\\admin\\anaconda3\\lib\\site-packages\\sklearn\\linear_model\\_coordinate_descent.py:529: ConvergenceWarning: Objective did not converge. You might want to increase the number of iterations. Duality gap: 105.28517877420381, tolerance: 19.89620742036104\n",
      "  model = cd_fast.enet_coordinate_descent(\n",
      "C:\\Users\\admin\\anaconda3\\lib\\site-packages\\sklearn\\linear_model\\_coordinate_descent.py:529: ConvergenceWarning: Objective did not converge. You might want to increase the number of iterations. Duality gap: 350.05664606241044, tolerance: 19.89620742036104\n",
      "  model = cd_fast.enet_coordinate_descent(\n",
      "C:\\Users\\admin\\anaconda3\\lib\\site-packages\\sklearn\\linear_model\\_coordinate_descent.py:529: ConvergenceWarning: Objective did not converge. You might want to increase the number of iterations. Duality gap: 105.28517877420381, tolerance: 19.89620742036104\n",
      "  model = cd_fast.enet_coordinate_descent(\n",
      "C:\\Users\\admin\\anaconda3\\lib\\site-packages\\sklearn\\linear_model\\_coordinate_descent.py:529: ConvergenceWarning: Objective did not converge. You might want to increase the number of iterations. Duality gap: 105.28517877420381, tolerance: 19.89620742036104\n",
      "  model = cd_fast.enet_coordinate_descent(\n",
      "C:\\Users\\admin\\anaconda3\\lib\\site-packages\\sklearn\\linear_model\\_coordinate_descent.py:529: ConvergenceWarning: Objective did not converge. You might want to increase the number of iterations. Duality gap: 105.28517877420381, tolerance: 19.89620742036104\n",
      "  model = cd_fast.enet_coordinate_descent(\n",
      "C:\\Users\\admin\\anaconda3\\lib\\site-packages\\sklearn\\linear_model\\_coordinate_descent.py:529: ConvergenceWarning: Objective did not converge. You might want to increase the number of iterations. Duality gap: 113.13770678027504, tolerance: 19.89620742036104\n",
      "  model = cd_fast.enet_coordinate_descent(\n",
      "C:\\Users\\admin\\anaconda3\\lib\\site-packages\\sklearn\\linear_model\\_coordinate_descent.py:529: ConvergenceWarning: Objective did not converge. You might want to increase the number of iterations. Duality gap: 113.13770678027504, tolerance: 19.89620742036104\n",
      "  model = cd_fast.enet_coordinate_descent(\n",
      "C:\\Users\\admin\\anaconda3\\lib\\site-packages\\sklearn\\linear_model\\_coordinate_descent.py:529: ConvergenceWarning: Objective did not converge. You might want to increase the number of iterations. Duality gap: 299.69963218447083, tolerance: 19.89620742036104\n",
      "  model = cd_fast.enet_coordinate_descent(\n",
      "C:\\Users\\admin\\anaconda3\\lib\\site-packages\\sklearn\\linear_model\\_coordinate_descent.py:529: ConvergenceWarning: Objective did not converge. You might want to increase the number of iterations. Duality gap: 113.13770678027504, tolerance: 19.89620742036104\n",
      "  model = cd_fast.enet_coordinate_descent(\n",
      "C:\\Users\\admin\\anaconda3\\lib\\site-packages\\sklearn\\linear_model\\_coordinate_descent.py:529: ConvergenceWarning: Objective did not converge. You might want to increase the number of iterations. Duality gap: 113.13770678027504, tolerance: 19.89620742036104\n",
      "  model = cd_fast.enet_coordinate_descent(\n",
      "C:\\Users\\admin\\anaconda3\\lib\\site-packages\\sklearn\\linear_model\\_coordinate_descent.py:529: ConvergenceWarning: Objective did not converge. You might want to increase the number of iterations. Duality gap: 113.13770678027504, tolerance: 19.89620742036104\n",
      "  model = cd_fast.enet_coordinate_descent(\n"
     ]
    }
   ],
   "source": [
    "#Υπολογισμός των σφαλμάτων με την μέθοδο Lasso για διάφορους βαθμούς του πολυωνύμου\n",
    "MSE_test=[]\n",
    "MAE_test=[]\n",
    "MAPE_test=[]\n",
    "MSE_train=[]\n",
    "MAE_train=[]\n",
    "MAPE_train=[]\n",
    "nes=[1,2,3,4,5,6,7,8,9,10]\n",
    "model1=lasso\n",
    "for n in nes :\n",
    "    \n",
    "    scaler = MinMaxScaler()\n",
    "    scaler.fit(X_train) \n",
    "    scaler.fit(X_test) \n",
    "    X_train_scaled = scaler.fit_transform(X_train)\n",
    "    X_test_scaled = scaler.fit_transform(X_test)\n",
    "    \n",
    "    MSE_test.append(test_poly_regression(X_train_scaled,y_train,X_test_scaled,y_test,n,model1)[0])\n",
    "    MAE_test.append(test_poly_regression(X_train_scaled,y_train,X_test_scaled,y_test,n,model1)[1])\n",
    "    MAPE_test.append(test_poly_regression(X_train,y_train,X_test,y_test,n,model1)[2])\n",
    "    \n",
    "    MSE_train.append(test_poly_regression(X_train_scaled,y_train,X_test_scaled,y_test,n,model1)[3])\n",
    "    MAE_train.append(test_poly_regression(X_train_scaled,y_train,X_test_scaled,y_test,n,model1)[4])\n",
    "    MAPE_train.append(test_poly_regression(X_train_scaled,y_train,X_test_scaled,y_test,n,model1)[5])\n",
    "    "
   ]
  },
  {
   "cell_type": "code",
   "execution_count": 132,
   "metadata": {},
   "outputs": [
    {
     "data": {
      "image/png": "[encoded data removed]",
      "text/plain": [
       "<Figure size 720x360 with 1 Axes>"
      ]
     },
     "metadata": {
      "needs_background": "light"
     },
     "output_type": "display_data"
    },
    {
     "data": {
      "image/png": "[encoded data removed]",
      "text/plain": [
       "<Figure size 720x360 with 1 Axes>"
      ]
     },
     "metadata": {
      "needs_background": "light"
     },
     "output_type": "display_data"
    }
   ],
   "source": [
    "\n",
    "fig7 = plt.figure(figsize=(10,5))\n",
    "axes = plt.gca()\n",
    "axes.tick_params(axis = 'both', which = 'major', labelsize = 20)\n",
    "axes.tick_params(axis = 'both', which = 'minor', labelsize = 20)\n",
    "plt.plot(nes, MSE_test,  label = 'MSE(test)')\n",
    "plt.plot(nes, MAE_test,  label = 'MAE(test)')\n",
    "plt.plot(nes, MAPE_test,  label = 'MAPE(test)')\n",
    "plt.plot(nes, MSE_train,  label = 'MSE_train')\n",
    "plt.plot(nes, MAE_train,  label = 'MAE(train)')\n",
    "plt.plot(nes, MAPE_train,  label = 'MAPE(train)')\n",
    "plt.xlabel('n',size=20)\n",
    "plt.ylabel('Train and Test Errors',size=15)\n",
    "plt.title('Errors (with Lasso Regression) vs n', fontsize = 12)\n",
    "plt.xticks(size = 20)\n",
    "plt.yticks(size = 20)\n",
    "plt.legend()\n",
    "plt.show()\n",
    "\n",
    "fig8 = plt.figure(figsize=(10,5))\n",
    "axes = plt.gca()\n",
    "axes.tick_params(axis = 'both', which = 'major', labelsize = 20)\n",
    "axes.tick_params(axis = 'both', which = 'minor', labelsize = 20)\n",
    "plt.plot(nes, MSE_train,  label = 'MSE')\n",
    "plt.plot(nes, MAE_train,  label = 'MAE')\n",
    "plt.plot(nes, MAPE_train,  label = 'MAPE')\n",
    "plt.xlabel('n',size=20)\n",
    "plt.ylabel('Train Errors',size=20)\n",
    "plt.title('Errors (with Lasso Regression) vs n', fontsize = 12)\n",
    "plt.xticks(size = 20)\n",
    "plt.yticks(size = 20)\n",
    "plt.legend()\n",
    "plt.show()"
   ]
  },
  {
   "cell_type": "code",
   "execution_count": 143,
   "metadata": {},
   "outputs": [],
   "source": [
    "np.random.shuffle(Data)\n",
    "X, y = Data[:, :-1], Data[:, -1]\n",
    "X_train, X_test, y_train, y_test = train_test_split(X,y,test_size=0.3)\n",
    "scaler = MinMaxScaler()\n",
    "scaler.fit(X_train) \n",
    "scaler.fit(X_test) \n",
    "X_train_scaled = scaler.transform(X_train)\n",
    "X_test_scaled = scaler.transform(X_test)\n"
   ]
  },
  {
   "cell_type": "code",
   "execution_count": 144,
   "metadata": {},
   "outputs": [
    {
     "data": {
      "text/plain": [
       "18.473439451413775"
      ]
     },
     "execution_count": 144,
     "metadata": {},
     "output_type": "execute_result"
    }
   ],
   "source": [
    "test_poly_regression(X_train_scaled,y_train,X_test_scaled,y_test,4,ridge)[2]"
   ]
  },
  {
   "cell_type": "code",
   "execution_count": 145,
   "metadata": {},
   "outputs": [
    {
     "data": {
      "text/plain": [
       "18.16187298691722"
      ]
     },
     "execution_count": 145,
     "metadata": {},
     "output_type": "execute_result"
    }
   ],
   "source": [
    "test_poly_regression(X_train_scaled,y_train,X_test_scaled,y_test,3,regr)[2]"
   ]
  },
  {
   "cell_type": "code",
   "execution_count": null,
   "metadata": {},
   "outputs": [],
   "source": []
  }
 ],
 "metadata": {
  "kernelspec": {
   "display_name": "Python 3",
   "language": "python",
   "name": "python3"
  },
  "language_info": {
   "codemirror_mode": {
    "name": "ipython",
    "version": 3
   },
   "file_extension": ".py",
   "mimetype": "text/x-python",
   "name": "python",
   "nbconvert_exporter": "python",
   "pygments_lexer": "ipython3",
   "version": "3.8.5"
  }
 },
 "nbformat": 4,
 "nbformat_minor": 4
}
